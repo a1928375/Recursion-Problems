{
 "cells": [
  {
   "cell_type": "markdown",
   "metadata": {},
   "source": [
    "# Mine"
   ]
  },
  {
   "cell_type": "code",
   "execution_count": null,
   "metadata": {},
   "outputs": [],
   "source": [
    "def permute(s):\n",
    "    \n",
    "    if len(s) == 1:\n",
    "        \n",
    "     \n",
    "    else:\n",
    "        \n",
    "    \n",
    "    \n",
    "    \n",
    "\n",
    "    \n",
    "permute('abc')\n",
    "['abc', 'acb', 'bac', 'bca', 'cab', 'cba']"
   ]
  },
  {
   "cell_type": "markdown",
   "metadata": {},
   "source": [
    "# Instructor\n",
    "# excellent"
   ]
  },
  {
   "cell_type": "code",
   "execution_count": 4,
   "metadata": {},
   "outputs": [
    {
     "name": "stdout",
     "output_type": "stream",
     "text": [
      "[]\n",
      "['bc']\n",
      "[]\n",
      "['abc']\n",
      "[]\n",
      "['ac']\n",
      "['abc', 'acb']\n",
      "['abc', 'acb', 'bac']\n",
      "[]\n",
      "['ab']\n",
      "['abc', 'acb', 'bac', 'bca']\n",
      "['abc', 'acb', 'bac', 'bca', 'cab']\n",
      "['abc', 'acb', 'bac', 'bca', 'cab', 'cba']\n"
     ]
    }
   ],
   "source": [
    "def permute(s):\n",
    "    \n",
    "    out = []\n",
    "    \n",
    "    # Base Case\n",
    "    if len(s) == 1:\n",
    "        out = [s]\n",
    "        \n",
    "    else:\n",
    "        # For every letter in string\n",
    "        for let in s:\n",
    "            \n",
    "            # For every permutation resulting from Step 2 and 3 described above\n",
    "            for perm in permute(s[:s.find(let)] + s[s.find(let)+1:]):\n",
    "                \n",
    "                # Add it to output              \n",
    "                out = out + [let + perm]\n",
    "                \n",
    "    return out\n",
    "\n",
    "print (permute('abc'))"
   ]
  },
  {
   "cell_type": "code",
   "execution_count": null,
   "metadata": {},
   "outputs": [],
   "source": []
  }
 ],
 "metadata": {
  "kernelspec": {
   "display_name": "Python 3",
   "language": "python",
   "name": "python3"
  },
  "language_info": {
   "codemirror_mode": {
    "name": "ipython",
    "version": 3
   },
   "file_extension": ".py",
   "mimetype": "text/x-python",
   "name": "python",
   "nbconvert_exporter": "python",
   "pygments_lexer": "ipython3",
   "version": "3.7.3"
  }
 },
 "nbformat": 4,
 "nbformat_minor": 2
}
