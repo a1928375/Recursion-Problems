{
 "cells": [
  {
   "cell_type": "markdown",
   "metadata": {},
   "source": [
    "# Mine"
   ]
  },
  {
   "cell_type": "code",
   "execution_count": 5,
   "metadata": {},
   "outputs": [
    {
     "name": "stdout",
     "output_type": "stream",
     "text": [
      "dlrow olleh\n",
      "olleh\n",
      "987654321\n",
      "24.5 µs ± 6.57 µs per loop (mean ± std. dev. of 7 runs, 100000 loops each)\n"
     ]
    }
   ],
   "source": [
    "def reverse(s):\n",
    "    \n",
    "#    if s == \"\":      不用到 \"\"，因為s剩1 element時，就是base case => 省 1 recursion       \n",
    "#        return \"\" \n",
    "        \n",
    "    if len(s) == 1:\n",
    "        \n",
    "        return s\n",
    "    \n",
    "    result = \"\"\n",
    "    \n",
    "    result = result + s[-1]\n",
    "    \n",
    "    return result + reverse(s[:-1])\n",
    "\n",
    "   \n",
    "print (reverse('hello world'))\n",
    "print (reverse('hello'))\n",
    "print (reverse('123456789'))\n",
    "\n",
    "%timeit reverse('123456789123456789123456789123456789123456789123456789')"
   ]
  },
  {
   "cell_type": "markdown",
   "metadata": {},
   "source": [
    "# Instructor"
   ]
  },
  {
   "cell_type": "code",
   "execution_count": 6,
   "metadata": {},
   "outputs": [
    {
     "name": "stdout",
     "output_type": "stream",
     "text": [
      "27.9 µs ± 71.4 ns per loop (mean ± std. dev. of 7 runs, 10000 loops each)\n"
     ]
    }
   ],
   "source": [
    "def reverse(s):\n",
    "    \n",
    "    # Base Case\n",
    "    if len(s) <= 1:\n",
    "        return s\n",
    "\n",
    "    # Recursion\n",
    "    return reverse(s[1:]) + s[0]\n",
    "\n",
    "%timeit reverse('123456789123456789123456789123456789123456789123456789')"
   ]
  }
 ],
 "metadata": {
  "kernelspec": {
   "display_name": "Python 3",
   "language": "python",
   "name": "python3"
  },
  "language_info": {
   "codemirror_mode": {
    "name": "ipython",
    "version": 3
   },
   "file_extension": ".py",
   "mimetype": "text/x-python",
   "name": "python",
   "nbconvert_exporter": "python",
   "pygments_lexer": "ipython3",
   "version": "3.7.3"
  }
 },
 "nbformat": 4,
 "nbformat_minor": 2
}
