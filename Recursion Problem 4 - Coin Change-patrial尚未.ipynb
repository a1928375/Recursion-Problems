{
 "cells": [
  {
   "cell_type": "markdown",
   "metadata": {},
   "source": [
    "# Mine-Greedy method-partial fail"
   ]
  },
  {
   "cell_type": "code",
   "execution_count": 1,
   "metadata": {},
   "outputs": [
    {
     "name": "stdout",
     "output_type": "stream",
     "text": [
      "2\n",
      "1\n",
      "3\n",
      "5\n",
      "8\n",
      "6\n"
     ]
    }
   ],
   "source": [
    "def rec_coin(target,coins, result = None):\n",
    "    \n",
    "    if result == None:\n",
    "        \n",
    "        result = []\n",
    "    \n",
    "    if target == 0:\n",
    "        \n",
    "        return len(result)\n",
    "    \n",
    "    else:\n",
    "        \n",
    "        coins.sort(reverse=True)\n",
    "        \n",
    "        for ele in coins:\n",
    "            \n",
    "            if target - ele >= 0:\n",
    "                \n",
    "                result.append(ele)          \n",
    "                \n",
    "                return rec_coin(target - ele, coins, result)\n",
    "                \n",
    "                \n",
    "print (rec_coin(10,[1,5]))\n",
    "print (rec_coin(1,[1,5]))\n",
    "print (rec_coin(45,[1,5,10,25]))\n",
    "print (rec_coin(23,[1,5,10,25]))\n",
    "print (rec_coin(74,[1,5,10,25]))\n",
    "\n",
    "print (rec_coin(63,[1,5,10,21,25]))  # this case fails => ans. should be 3\n",
    "                                     # this method called Greedy method\n",
    "                                     # in some special cases with special coin list the Greedy method fails"
   ]
  },
  {
   "cell_type": "markdown",
   "metadata": {},
   "source": [
    "# Instructor-Recursively"
   ]
  },
  {
   "cell_type": "code",
   "execution_count": null,
   "metadata": {},
   "outputs": [],
   "source": [
    "def rec_coin(target,coins):\n",
    "    '''\n",
    "    INPUT: Target change amount and list of coin values\n",
    "    OUTPUT: Minimum coins needed to make change\n",
    "    \n",
    "    Note, this solution is not optimized.\n",
    "    '''\n",
    "    \n",
    "    # Default to target value\n",
    "    min_coins = target\n",
    "    \n",
    "    # Check to see if we have a single coin match (BASE CASE)\n",
    "    if target in coins:\n",
    "        return 1\n",
    "    \n",
    "    else:\n",
    "        \n",
    "        # for every coin value that is <= than target\n",
    "        for i in [c for c in coins if c <= target]:\n",
    "            \n",
    "            # Recursive Call (add a count coin and subtract from the target) \n",
    "            num_coins = 1 + rec_coin(target-i,coins)\n",
    "            \n",
    "            # Reset Minimum if we have a new minimum\n",
    "            if num_coins < min_coins:\n",
    "                \n",
    "                min_coins = num_coins\n",
    "                \n",
    "    return min_coins"
   ]
  },
  {
   "cell_type": "markdown",
   "metadata": {},
   "source": [
    "# Instructor-Dynamically"
   ]
  },
  {
   "cell_type": "code",
   "execution_count": null,
   "metadata": {},
   "outputs": [],
   "source": [
    "def rec_coin_dynam(target,coins,known_results):\n",
    "    '''\n",
    "    INPUT: This funciton takes in a target amount and a list of possible coins to use.\n",
    "    It also takes a third parameter, known_results, indicating previously calculated results.\n",
    "    The known_results parameter shoud be started with [0] * (target+1)\n",
    "    \n",
    "    OUTPUT: Minimum number of coins needed to make the target.\n",
    "    '''\n",
    "    \n",
    "    # Default output to target\n",
    "    min_coins = target\n",
    "    \n",
    "    # Base Case\n",
    "    if target in coins:\n",
    "        known_results[target] = 1\n",
    "        return 1\n",
    "    \n",
    "    # Return a known result if it happens to be greater than 1\n",
    "    elif known_results[target] > 0:\n",
    "        return known_results[target]\n",
    "    \n",
    "    else:\n",
    "        # for every coin value that is <= than target\n",
    "        for i in [c for c in coins if c <= target]:\n",
    "            \n",
    "            # Recursive call, note how we include the known results!\n",
    "            num_coins = 1 + rec_coin_dynam(target-i,coins,known_results)\n",
    "            \n",
    "            # Reset Minimum if we have a new minimum\n",
    "            if num_coins < min_coins:\n",
    "                min_coins = num_coins\n",
    "                \n",
    "                # Reset the known result\n",
    "                known_results[target] = min_coins\n",
    "                \n",
    "    return min_coins"
   ]
  },
  {
   "cell_type": "markdown",
   "metadata": {},
   "source": [
    "# Dynamical solution with dictionary"
   ]
  },
  {
   "cell_type": "code",
   "execution_count": null,
   "metadata": {},
   "outputs": [],
   "source": [
    "def rec_coin_dynam2(target,coins,known_results=None):\n",
    "    \n",
    "    if known_results == None:\n",
    "        known_results = {}\n",
    "        \n",
    "    min_coins = target\n",
    "    \n",
    "    if target in known_results:\n",
    "        \n",
    "        return known_results[target]\n",
    "    \n",
    "    elif target in coins:\n",
    "        \n",
    "        known_results[target] = 1\n",
    "        \n",
    "        return 1\n",
    "    \n",
    "    else:\n",
    "        \n",
    "        if target > min(coins):\n",
    "            \n",
    "            for i in [c for c in coins if c <= target]:\n",
    "                \n",
    "                num_coins = 1 + rec_coin_dynam2(target-i,coins,known_results)\n",
    "                \n",
    "                #print 'num_coins=',num_coins,'  min_coins=',min_coins\n",
    "                if num_coins < min_coins:\n",
    "                    \n",
    "                    min_coins = num_coins\n",
    "                    \n",
    "                    known_results[target] = min_coins\n",
    "                    \n",
    "        else:\n",
    "            \n",
    "            print 'Cannot be done!'\n",
    "            \n",
    "    return min_coins"
   ]
  }
 ],
 "metadata": {
  "kernelspec": {
   "display_name": "Python 3",
   "language": "python",
   "name": "python3"
  },
  "language_info": {
   "codemirror_mode": {
    "name": "ipython",
    "version": 3
   },
   "file_extension": ".py",
   "mimetype": "text/x-python",
   "name": "python",
   "nbconvert_exporter": "python",
   "pygments_lexer": "ipython3",
   "version": "3.7.3"
  }
 },
 "nbformat": 4,
 "nbformat_minor": 2
}
